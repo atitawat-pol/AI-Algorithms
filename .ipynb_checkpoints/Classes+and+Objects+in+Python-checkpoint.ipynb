{
 "cells": [
  {
   "cell_type": "code",
   "execution_count": null,
   "metadata": {},
   "outputs": [],
   "source": [
    "class Robot:\n",
    "    def __init__(self, n, c, w):\n",
    "        self.name = n\n",
    "        self.color = c\n",
    "        self.weight = w\n",
    "\n",
    "    def introduce_self(self):\n",
    "        print(\"My name is \" + self.name) # this in Java"
   ]
  },
  {
   "cell_type": "code",
   "execution_count": null,
   "metadata": {
    "scrolled": true
   },
   "outputs": [],
   "source": [
    "r1 = Robot()\n",
    "r1.name = \"Tom\"\n",
    "r1.color = \"red\"\n",
    "r1.weight = 30\n",
    "\n",
    "r2 = Robot()\n",
    "r2.name = \"Jerry\"\n",
    "r2.color = \"blue\"\n",
    "r2.weight = 40\n",
    "\n",
    "#r1 = Robot(\"Tom\", \"red\", 30)\n",
    "#r2 = Robot(\"Jerry\", \"blue\", 40)"
   ]
  },
  {
   "cell_type": "code",
   "execution_count": null,
   "metadata": {},
   "outputs": [],
   "source": [
    "r1.introduce_self()\n",
    "r2.introduce_self()"
   ]
  },
  {
   "cell_type": "code",
   "execution_count": 73,
   "metadata": {
    "scrolled": true
   },
   "outputs": [],
   "source": [
    "class Robot:\n",
    "    \n",
    "    \n",
    "#    def setName(self, n):\n",
    "#        self.name = n\n",
    "        \n",
    "#    def setColor(self, c):\n",
    "#        self.color = c\n",
    "        \n",
    "#    def setWeight(self, w):\n",
    "#        self.weight = w\n",
    "        \n",
    "    def introduce_self(this):\n",
    "        print(\"My name is \" + this.name)\n",
    "        print(this.kuy)\n",
    "        print(this.color)\n",
    "        print(this.weight)"
   ]
  },
  {
   "cell_type": "code",
   "execution_count": 74,
   "metadata": {},
   "outputs": [],
   "source": [
    "r1 = Robot()\n",
    "r1.name = \"Tom\"\n",
    "r1.color = \"red\"\n",
    "r1.weight = 30\n",
    "r1.kuy = 'Showkuay'"
   ]
  },
  {
   "cell_type": "code",
   "execution_count": 75,
   "metadata": {
    "scrolled": true
   },
   "outputs": [
    {
     "name": "stdout",
     "output_type": "stream",
     "text": [
      "My name is Tom\n",
      "Showkuay\n",
      "red\n",
      "30\n"
     ]
    }
   ],
   "source": [
    "r1.introduce_self()"
   ]
  },
  {
   "cell_type": "code",
   "execution_count": 1,
   "metadata": {},
   "outputs": [],
   "source": [
    "class Car:\n",
    "  \n",
    "    # Attributes\n",
    "    color = \"No color\"\n",
    "    brand = \"No brand\"\n",
    "    numOfwheels = 4 # จำนวนล้อ\n",
    "    numOfseats = 4  # จำนวนเบาะนั่ง\n",
    "    maxSpeed = 0\n",
    "    numberOfcar = 0\n",
    "  \n",
    "    def __init__(self, color, brand, maxSpeed):\n",
    "        self.color = color\n",
    "        self.brand = brand\n",
    "        self.maxSpeed    = maxSpeed\n",
    "  \n",
    "    # Methods\n",
    "    def setColor(self,c):\n",
    "        self.color = x\n",
    " \n",
    "    def setBrand(self,b):\n",
    "        self.brand = b\n",
    "  \n",
    "    def setMaxSpeed(self,s):\n",
    "        self.maxSpeed = s\n",
    "  \n",
    "    def printData(self):\n",
    "        print(\"The color of car is : \",self.color)\n",
    "        print(\"The car was built by :\",self.brand)\n",
    "        print(\"The Maximun speed is :\",self.maxSpeed,\" km/hr.\")"
   ]
  },
  {
   "cell_type": "code",
   "execution_count": 2,
   "metadata": {},
   "outputs": [
    {
     "ename": "TypeError",
     "evalue": "__init__() missing 3 required positional arguments: 'color', 'brand', and 'maxSpeed'",
     "output_type": "error",
     "traceback": [
      "\u001b[1;31m---------------------------------------------------------------------------\u001b[0m",
      "\u001b[1;31mTypeError\u001b[0m                                 Traceback (most recent call last)",
      "\u001b[1;32m<ipython-input-2-fca76262ff04>\u001b[0m in \u001b[0;36m<module>\u001b[1;34m\u001b[0m\n\u001b[1;32m----> 1\u001b[1;33m \u001b[0mmycar\u001b[0m \u001b[1;33m=\u001b[0m \u001b[0mCar\u001b[0m\u001b[1;33m(\u001b[0m\u001b[1;33m)\u001b[0m\u001b[1;33m\u001b[0m\u001b[1;33m\u001b[0m\u001b[0m\n\u001b[0m",
      "\u001b[1;31mTypeError\u001b[0m: __init__() missing 3 required positional arguments: 'color', 'brand', and 'maxSpeed'"
     ]
    }
   ],
   "source": [
    "mycar = Car()"
   ]
  },
  {
   "cell_type": "code",
   "execution_count": null,
   "metadata": {},
   "outputs": [],
   "source": []
  }
 ],
 "metadata": {
  "kernelspec": {
   "display_name": "Python 3",
   "language": "python",
   "name": "python3"
  },
  "language_info": {
   "codemirror_mode": {
    "name": "ipython",
    "version": 3
   },
   "file_extension": ".py",
   "mimetype": "text/x-python",
   "name": "python",
   "nbconvert_exporter": "python",
   "pygments_lexer": "ipython3",
   "version": "3.7.4"
  }
 },
 "nbformat": 4,
 "nbformat_minor": 2
}
