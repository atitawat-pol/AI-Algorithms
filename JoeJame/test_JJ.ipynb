{
 "cells": [
  {
   "cell_type": "code",
   "execution_count": 1,
   "metadata": {},
   "outputs": [],
   "source": [
    "def read_test_file(fname):\n",
    "    '''taken file then return (vertex, vertices)'''\n",
    "    data = {}\n",
    "    # Parse Vertices\n",
    "    with open(fname, 'r') as file:\n",
    "        for line in file:\n",
    "            line = line.rstrip()\n",
    "            line = line.split()\n",
    "            vertex, con_nodes = line[0], line[1:]\n",
    "            data[vertex] = con_nodes\n",
    "\n",
    "    return data\n",
    "\n",
    "class Vertex:\n",
    "    '''for color: red for visited\n",
    "        black for unvisited'''\n",
    "    def __init__(self, n):\n",
    "        self.name = n           # name of the vertex\n",
    "        self.neighbors = []     # store the name of vertices that connected to the vertex\n",
    "\n",
    "        self.distance = 9999    # distance from the source\n",
    "        self.color = 'black'    # black for unvisited\n",
    "\n",
    "    def add_neighbor(self, v):\n",
    "        '''Accept a letter name of a vertex that will add it to the neighbors list'''\n",
    "        if v not in self.neighbors:\n",
    "            self.neighbors.append(v)\n",
    "            self.neighbors.sort()\n",
    "\n",
    "class Graph:\n",
    "    '''store all the vertices in a dictionary object'''\n",
    "    def __init__(self):\n",
    "        self.vertices = {}\n",
    "\n",
    "    def add_vertex(self, vertex):\n",
    "        '''add vertices to the vertex dictionary\n",
    "        we check whether vertex variable passed in is acctually a vertex object not accidentlly\n",
    "        assign str or other type to {vertices}'''\n",
    "        if isinstance(vertex, Vertex) and vertex.name not in self.vertices: \n",
    "            self.vertices[vertex.name] = vertex\n",
    "            return True\n",
    "        else:\n",
    "            return False\n",
    "\n",
    "    def add_edge(self, u, v):\n",
    "        '''takes the letter name of the vertex at either end\n",
    "            of that edge'''\n",
    "        if u in self.vertices and v in self.vertices:\n",
    "            for key, val in self.vertices.items():\n",
    "                if key == u:\n",
    "                    val.add_neighbor(v)\n",
    "                if key == v:\n",
    "                    val.add_neighbor(u)\n",
    "            return True\n",
    "        else:\n",
    "            return False\n",
    "\n",
    "\n",
    "    def print_graph(self):\n",
    "        for key in sorted(list(self.vertices.keys())):\n",
    "            print(key + str(self.vertices[key].neighbors) + \" \" + str(self.vertices[key].distance))\n",
    "\n",
    "    def bfs(self, start_vert):\n",
    "        queue = []\n",
    "        start_vert.distance = 0\n",
    "        start_vert.color = 'red'\n",
    "        for v in start_vert.neighbors:\n",
    "            self.vertices[v].distance = start_vert.distance + 1\n",
    "            queue.append(v)\n",
    "\n",
    "        while len(queue) > 0:\n",
    "            u = queue.pop(0)\n",
    "            node_u = self.vertices[u]\n",
    "            node_u.color = 'red'\n",
    "\n",
    "            for v in node_u.neighbors:\n",
    "                node_v = self.vertices[v]\n",
    "                if node_v.color == 'black':\n",
    "                    queue.append(v)\n",
    "                    if node_v.distance > node_u.distance + 1:\n",
    "                        node_v.distance = node_u.distance +1"
   ]
  },
  {
   "cell_type": "markdown",
   "metadata": {},
   "source": [
    "Joe James Test\n",
    "```python\n",
    "g = Graph()\n",
    "a = Vertex('A')\n",
    "g.add_vertex(a)\n",
    "g.add_vertex(Vertex('B'))\n",
    "\n",
    "for i in range(ord('A'), ord('K')):\n",
    "\tg.add_vertex(Vertex(chr(i)))\n",
    "    \n",
    "edges = ['AB', 'AE', 'BF', 'CG', 'DE', 'DH', 'EH', 'FG', 'FI', 'FJ', 'GJ', 'HI']\n",
    "\n",
    "for edge in edges:\n",
    "\tg.add_edge(edge[:1], edge[1:])\n",
    "\t\n",
    "g.bfs(a)\n",
    "g.print_graph()\n",
    "```"
   ]
  },
  {
   "cell_type": "code",
   "execution_count": 2,
   "metadata": {},
   "outputs": [],
   "source": [
    "g = Graph()\n",
    "for i in range(ord('A'), ord('K')):\n",
    "    g.add_vertex(Vertex(chr(i)))"
   ]
  },
  {
   "cell_type": "code",
   "execution_count": 3,
   "metadata": {},
   "outputs": [
    {
     "name": "stdout",
     "output_type": "stream",
     "text": [
      "A[] 9999\n",
      "B[] 9999\n",
      "C[] 9999\n",
      "D[] 9999\n",
      "E[] 9999\n",
      "F[] 9999\n",
      "G[] 9999\n",
      "H[] 9999\n",
      "I[] 9999\n",
      "J[] 9999\n"
     ]
    }
   ],
   "source": [
    "g.print_graph()"
   ]
  },
  {
   "cell_type": "code",
   "execution_count": null,
   "metadata": {},
   "outputs": [],
   "source": [
    "for edge in edges:\n",
    "    "
   ]
  }
 ],
 "metadata": {
  "kernelspec": {
   "display_name": "Python 3",
   "language": "python",
   "name": "python3"
  },
  "language_info": {
   "codemirror_mode": {
    "name": "ipython",
    "version": 3
   },
   "file_extension": ".py",
   "mimetype": "text/x-python",
   "name": "python",
   "nbconvert_exporter": "python",
   "pygments_lexer": "ipython3",
   "version": "3.7.4"
  }
 },
 "nbformat": 4,
 "nbformat_minor": 2
}
